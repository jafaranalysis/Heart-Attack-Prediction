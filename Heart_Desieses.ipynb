{
 "cells": [
  {
   "cell_type": "markdown",
   "id": "d175de19-cb30-4473-99b8-7c09c08883aa",
   "metadata": {},
   "source": [
    "#  Dataset Selection\n",
    "\n",
    "I chose a dataset from Kaggle that contains clinical information related to heart attack events. It consists of 1,319 rows and 9 columns. Each row represents a patient, and the features include age, blood pressure, glucose, troponin, and more. The target variable `class` indicates whether the patient experienced a heart attack (\"Yes\" or \"No\").\n",
    "\n",
    "This health-focused dataset is meaningful because early detection of heart attacks can save lives. Machine learning can assist doctors in identifying high-risk patients using routine medical tests.\n"
   ]
  },
  {
   "cell_type": "markdown",
   "id": "ed335fa0-b5c1-4813-a56c-3910acdde96d",
   "metadata": {},
   "source": [
    "# Framing the Business Problem\n",
    "\n",
    "The goal is to predict whether a patient had a heart attack based on medical test results. This is a (binary classification) problem, where the target variable is \"class\" (Yes/No).\n",
    "\n",
    "I chose the (F1-score) as the evaluation metric. This is because in medical predictions, both false positives (unnecessary alarm) and false negatives (missed diagnosis) are serious. The F1-score balances precision and recall, making it suitable for this task.\n"
   ]
  },
  {
   "cell_type": "markdown",
   "id": "f67d0004-3182-414f-b5f4-ca31b30534e0",
   "metadata": {},
   "source": [
    "# Data Understanding\n",
    "\n",
    "Here I load the dataset and inspect its shape, column names, data types, and missing values. This helps me understand what kind of data I am dealing with.\n",
    "\n",
    "- Shape: 1319 rows × 9 columns\n",
    "- No missing values are present\n",
    "- Most features are numeric; the target is categorical (\"Yes\"/\"No\")\n",
    "\n",
    "This initial step is important to detect issues early (like missing or wrongly typed data).\n"
   ]
  },
  {
   "cell_type": "code",
   "execution_count": 1,
   "id": "2197427d-65f0-4f24-8e81-04970c2d3db2",
   "metadata": {},
   "outputs": [],
   "source": [
    "import pandas as pd\n",
    "import numpy as np \n",
    "import seaborn as sns\n",
    "import matplotlib.pyplot as plt\n",
    "from sklearn.model_selection import train_test_split\n",
    "from sklearn.preprocessing import StandardScaler\n",
    "from sklearn.linear_model import LogisticRegression\n",
    "from sklearn.tree import DecisionTreeClassifier\n",
    "from sklearn.ensemble import RandomForestClassifier, GradientBoostingClassifier\n",
    "from sklearn.svm import SVC\n",
    "from sklearn.metrics import f1_score,make_scorer\n",
    "from sklearn.model_selection import GridSearchCV\n",
    "from sklearn.metrics import classification_report\n",
    "\n"
   ]
  },
  {
   "cell_type": "code",
   "execution_count": 2,
   "id": "8284d060-3e47-4e73-85ea-e058dce0ed7c",
   "metadata": {},
   "outputs": [],
   "source": [
    "df=pd.read_csv('Heart Attack.csv')"
   ]
  },
  {
   "cell_type": "code",
   "execution_count": 3,
   "id": "3711a800-8ab5-4548-ab09-57d0b78f2938",
   "metadata": {},
   "outputs": [
    {
     "data": {
      "text/html": [
       "<div>\n",
       "<style scoped>\n",
       "    .dataframe tbody tr th:only-of-type {\n",
       "        vertical-align: middle;\n",
       "    }\n",
       "\n",
       "    .dataframe tbody tr th {\n",
       "        vertical-align: top;\n",
       "    }\n",
       "\n",
       "    .dataframe thead th {\n",
       "        text-align: right;\n",
       "    }\n",
       "</style>\n",
       "<table border=\"1\" class=\"dataframe\">\n",
       "  <thead>\n",
       "    <tr style=\"text-align: right;\">\n",
       "      <th></th>\n",
       "      <th>age</th>\n",
       "      <th>gender</th>\n",
       "      <th>impluse</th>\n",
       "      <th>pressurehight</th>\n",
       "      <th>pressurelow</th>\n",
       "      <th>glucose</th>\n",
       "      <th>kcm</th>\n",
       "      <th>troponin</th>\n",
       "      <th>class</th>\n",
       "    </tr>\n",
       "  </thead>\n",
       "  <tbody>\n",
       "    <tr>\n",
       "      <th>0</th>\n",
       "      <td>64</td>\n",
       "      <td>1</td>\n",
       "      <td>66</td>\n",
       "      <td>160</td>\n",
       "      <td>83</td>\n",
       "      <td>160.0</td>\n",
       "      <td>1.80</td>\n",
       "      <td>0.012</td>\n",
       "      <td>negative</td>\n",
       "    </tr>\n",
       "    <tr>\n",
       "      <th>1</th>\n",
       "      <td>21</td>\n",
       "      <td>1</td>\n",
       "      <td>94</td>\n",
       "      <td>98</td>\n",
       "      <td>46</td>\n",
       "      <td>296.0</td>\n",
       "      <td>6.75</td>\n",
       "      <td>1.060</td>\n",
       "      <td>positive</td>\n",
       "    </tr>\n",
       "    <tr>\n",
       "      <th>2</th>\n",
       "      <td>55</td>\n",
       "      <td>1</td>\n",
       "      <td>64</td>\n",
       "      <td>160</td>\n",
       "      <td>77</td>\n",
       "      <td>270.0</td>\n",
       "      <td>1.99</td>\n",
       "      <td>0.003</td>\n",
       "      <td>negative</td>\n",
       "    </tr>\n",
       "    <tr>\n",
       "      <th>3</th>\n",
       "      <td>64</td>\n",
       "      <td>1</td>\n",
       "      <td>70</td>\n",
       "      <td>120</td>\n",
       "      <td>55</td>\n",
       "      <td>270.0</td>\n",
       "      <td>13.87</td>\n",
       "      <td>0.122</td>\n",
       "      <td>positive</td>\n",
       "    </tr>\n",
       "    <tr>\n",
       "      <th>4</th>\n",
       "      <td>55</td>\n",
       "      <td>1</td>\n",
       "      <td>64</td>\n",
       "      <td>112</td>\n",
       "      <td>65</td>\n",
       "      <td>300.0</td>\n",
       "      <td>1.08</td>\n",
       "      <td>0.003</td>\n",
       "      <td>negative</td>\n",
       "    </tr>\n",
       "  </tbody>\n",
       "</table>\n",
       "</div>"
      ],
      "text/plain": [
       "   age  gender  impluse  pressurehight  pressurelow  glucose    kcm  troponin  \\\n",
       "0   64       1       66            160           83    160.0   1.80     0.012   \n",
       "1   21       1       94             98           46    296.0   6.75     1.060   \n",
       "2   55       1       64            160           77    270.0   1.99     0.003   \n",
       "3   64       1       70            120           55    270.0  13.87     0.122   \n",
       "4   55       1       64            112           65    300.0   1.08     0.003   \n",
       "\n",
       "      class  \n",
       "0  negative  \n",
       "1  positive  \n",
       "2  negative  \n",
       "3  positive  \n",
       "4  negative  "
      ]
     },
     "execution_count": 3,
     "metadata": {},
     "output_type": "execute_result"
    }
   ],
   "source": [
    "df.head()"
   ]
  },
  {
   "cell_type": "code",
   "execution_count": 4,
   "id": "0695e6ef-858c-47bf-99cb-60bcef396ac5",
   "metadata": {},
   "outputs": [
    {
     "data": {
      "text/plain": [
       "(1319, 9)"
      ]
     },
     "execution_count": 4,
     "metadata": {},
     "output_type": "execute_result"
    }
   ],
   "source": [
    "df.shape"
   ]
  },
  {
   "cell_type": "code",
   "execution_count": 5,
   "id": "df070749-f449-40c2-b7d0-9870611db4e0",
   "metadata": {},
   "outputs": [
    {
     "name": "stdout",
     "output_type": "stream",
     "text": [
      "<class 'pandas.core.frame.DataFrame'>\n",
      "RangeIndex: 1319 entries, 0 to 1318\n",
      "Data columns (total 9 columns):\n",
      " #   Column         Non-Null Count  Dtype  \n",
      "---  ------         --------------  -----  \n",
      " 0   age            1319 non-null   int64  \n",
      " 1   gender         1319 non-null   int64  \n",
      " 2   impluse        1319 non-null   int64  \n",
      " 3   pressurehight  1319 non-null   int64  \n",
      " 4   pressurelow    1319 non-null   int64  \n",
      " 5   glucose        1319 non-null   float64\n",
      " 6   kcm            1319 non-null   float64\n",
      " 7   troponin       1319 non-null   float64\n",
      " 8   class          1319 non-null   object \n",
      "dtypes: float64(3), int64(5), object(1)\n",
      "memory usage: 92.9+ KB\n"
     ]
    }
   ],
   "source": [
    "df.info()"
   ]
  },
  {
   "cell_type": "code",
   "execution_count": 6,
   "id": "c3999612-7b34-45b7-805c-1e56d93b7f19",
   "metadata": {},
   "outputs": [
    {
     "data": {
      "text/plain": [
       "age              0\n",
       "gender           0\n",
       "impluse          0\n",
       "pressurehight    0\n",
       "pressurelow      0\n",
       "glucose          0\n",
       "kcm              0\n",
       "troponin         0\n",
       "class            0\n",
       "dtype: int64"
      ]
     },
     "execution_count": 6,
     "metadata": {},
     "output_type": "execute_result"
    }
   ],
   "source": [
    "df.isnull().sum()"
   ]
  },
  {
   "cell_type": "code",
   "execution_count": 7,
   "id": "13959b3e-3d34-4e3e-b570-f5c4a7a356e9",
   "metadata": {},
   "outputs": [
    {
     "data": {
      "text/plain": [
       "np.int64(0)"
      ]
     },
     "execution_count": 7,
     "metadata": {},
     "output_type": "execute_result"
    }
   ],
   "source": [
    "df.duplicated().sum()"
   ]
  },
  {
   "cell_type": "code",
   "execution_count": 8,
   "id": "75a2e09d-6d95-46d9-9b28-97dd338b0f15",
   "metadata": {},
   "outputs": [
    {
     "data": {
      "text/html": [
       "<div>\n",
       "<style scoped>\n",
       "    .dataframe tbody tr th:only-of-type {\n",
       "        vertical-align: middle;\n",
       "    }\n",
       "\n",
       "    .dataframe tbody tr th {\n",
       "        vertical-align: top;\n",
       "    }\n",
       "\n",
       "    .dataframe thead th {\n",
       "        text-align: right;\n",
       "    }\n",
       "</style>\n",
       "<table border=\"1\" class=\"dataframe\">\n",
       "  <thead>\n",
       "    <tr style=\"text-align: right;\">\n",
       "      <th></th>\n",
       "      <th>age</th>\n",
       "      <th>gender</th>\n",
       "      <th>impluse</th>\n",
       "      <th>pressurehight</th>\n",
       "      <th>pressurelow</th>\n",
       "      <th>glucose</th>\n",
       "      <th>kcm</th>\n",
       "      <th>troponin</th>\n",
       "    </tr>\n",
       "  </thead>\n",
       "  <tbody>\n",
       "    <tr>\n",
       "      <th>count</th>\n",
       "      <td>1319.000000</td>\n",
       "      <td>1319.000000</td>\n",
       "      <td>1319.000000</td>\n",
       "      <td>1319.000000</td>\n",
       "      <td>1319.000000</td>\n",
       "      <td>1319.000000</td>\n",
       "      <td>1319.000000</td>\n",
       "      <td>1319.000000</td>\n",
       "    </tr>\n",
       "    <tr>\n",
       "      <th>mean</th>\n",
       "      <td>56.191812</td>\n",
       "      <td>0.659591</td>\n",
       "      <td>78.336619</td>\n",
       "      <td>127.170584</td>\n",
       "      <td>72.269143</td>\n",
       "      <td>146.634344</td>\n",
       "      <td>15.274306</td>\n",
       "      <td>0.360942</td>\n",
       "    </tr>\n",
       "    <tr>\n",
       "      <th>std</th>\n",
       "      <td>13.647315</td>\n",
       "      <td>0.474027</td>\n",
       "      <td>51.630270</td>\n",
       "      <td>26.122720</td>\n",
       "      <td>14.033924</td>\n",
       "      <td>74.923045</td>\n",
       "      <td>46.327083</td>\n",
       "      <td>1.154568</td>\n",
       "    </tr>\n",
       "    <tr>\n",
       "      <th>min</th>\n",
       "      <td>14.000000</td>\n",
       "      <td>0.000000</td>\n",
       "      <td>20.000000</td>\n",
       "      <td>42.000000</td>\n",
       "      <td>38.000000</td>\n",
       "      <td>35.000000</td>\n",
       "      <td>0.321000</td>\n",
       "      <td>0.001000</td>\n",
       "    </tr>\n",
       "    <tr>\n",
       "      <th>25%</th>\n",
       "      <td>47.000000</td>\n",
       "      <td>0.000000</td>\n",
       "      <td>64.000000</td>\n",
       "      <td>110.000000</td>\n",
       "      <td>62.000000</td>\n",
       "      <td>98.000000</td>\n",
       "      <td>1.655000</td>\n",
       "      <td>0.006000</td>\n",
       "    </tr>\n",
       "    <tr>\n",
       "      <th>50%</th>\n",
       "      <td>58.000000</td>\n",
       "      <td>1.000000</td>\n",
       "      <td>74.000000</td>\n",
       "      <td>124.000000</td>\n",
       "      <td>72.000000</td>\n",
       "      <td>116.000000</td>\n",
       "      <td>2.850000</td>\n",
       "      <td>0.014000</td>\n",
       "    </tr>\n",
       "    <tr>\n",
       "      <th>75%</th>\n",
       "      <td>65.000000</td>\n",
       "      <td>1.000000</td>\n",
       "      <td>85.000000</td>\n",
       "      <td>143.000000</td>\n",
       "      <td>81.000000</td>\n",
       "      <td>169.500000</td>\n",
       "      <td>5.805000</td>\n",
       "      <td>0.085500</td>\n",
       "    </tr>\n",
       "    <tr>\n",
       "      <th>max</th>\n",
       "      <td>103.000000</td>\n",
       "      <td>1.000000</td>\n",
       "      <td>1111.000000</td>\n",
       "      <td>223.000000</td>\n",
       "      <td>154.000000</td>\n",
       "      <td>541.000000</td>\n",
       "      <td>300.000000</td>\n",
       "      <td>10.300000</td>\n",
       "    </tr>\n",
       "  </tbody>\n",
       "</table>\n",
       "</div>"
      ],
      "text/plain": [
       "               age       gender      impluse  pressurehight  pressurelow  \\\n",
       "count  1319.000000  1319.000000  1319.000000    1319.000000  1319.000000   \n",
       "mean     56.191812     0.659591    78.336619     127.170584    72.269143   \n",
       "std      13.647315     0.474027    51.630270      26.122720    14.033924   \n",
       "min      14.000000     0.000000    20.000000      42.000000    38.000000   \n",
       "25%      47.000000     0.000000    64.000000     110.000000    62.000000   \n",
       "50%      58.000000     1.000000    74.000000     124.000000    72.000000   \n",
       "75%      65.000000     1.000000    85.000000     143.000000    81.000000   \n",
       "max     103.000000     1.000000  1111.000000     223.000000   154.000000   \n",
       "\n",
       "           glucose          kcm     troponin  \n",
       "count  1319.000000  1319.000000  1319.000000  \n",
       "mean    146.634344    15.274306     0.360942  \n",
       "std      74.923045    46.327083     1.154568  \n",
       "min      35.000000     0.321000     0.001000  \n",
       "25%      98.000000     1.655000     0.006000  \n",
       "50%     116.000000     2.850000     0.014000  \n",
       "75%     169.500000     5.805000     0.085500  \n",
       "max     541.000000   300.000000    10.300000  "
      ]
     },
     "execution_count": 8,
     "metadata": {},
     "output_type": "execute_result"
    }
   ],
   "source": [
    "df.describe()"
   ]
  },
  {
   "cell_type": "code",
   "execution_count": 9,
   "id": "cece5e60-d935-4f36-85f6-31c807851cc7",
   "metadata": {},
   "outputs": [],
   "source": [
    "df['class'] = df['class'].map({'negative': 0, 'positive': 1})"
   ]
  },
  {
   "cell_type": "code",
   "execution_count": null,
   "id": "a931507e-fb18-41d4-823c-86644982ce8e",
   "metadata": {},
   "outputs": [],
   "source": []
  },
  {
   "cell_type": "markdown",
   "id": "a2abf39b-6c2f-45ae-b62d-857998585ad8",
   "metadata": {},
   "source": [
    "# Train-Validation-Test Split"
   ]
  },
  {
   "cell_type": "code",
   "execution_count": 10,
   "id": "944cb5d0-abee-442c-8381-640d2a1db4e0",
   "metadata": {},
   "outputs": [],
   "source": [
    "X = df.drop(\"class\", axis=1)\n",
    "y = df[\"class\"]\n",
    "\n",
    "X_train, X_temp, y_train, y_temp = train_test_split(X, y, test_size=0.3, random_state=42)\n",
    "X_val, X_test, y_val, y_test = train_test_split(X_temp, y_temp, test_size=0.5, random_state=42)"
   ]
  },
  {
   "cell_type": "code",
   "execution_count": 11,
   "id": "a079357a-6bf2-43a9-bdef-71bed0e3108f",
   "metadata": {},
   "outputs": [
    {
     "data": {
      "text/plain": [
       "class\n",
       "1    810\n",
       "0    509\n",
       "Name: count, dtype: int64"
      ]
     },
     "execution_count": 11,
     "metadata": {},
     "output_type": "execute_result"
    }
   ],
   "source": [
    "df['class'].value_counts()"
   ]
  },
  {
   "cell_type": "code",
   "execution_count": 12,
   "id": "87f4b780-36d3-4541-8e03-4fe6a42cc2e2",
   "metadata": {},
   "outputs": [
    {
     "data": {
      "text/plain": [
       "Text(0.5, 1.0, 'Target Variable Distribution')"
      ]
     },
     "execution_count": 12,
     "metadata": {},
     "output_type": "execute_result"
    },
    {
     "data": {
      "image/png": "[encoded data removed]",
      "text/plain": [
       "<Figure size 640x480 with 1 Axes>"
      ]
     },
     "metadata": {},
     "output_type": "display_data"
    }
   ],
   "source": [
    "# Distribution of target\n",
    "sns.countplot(data=df, x='class')\n",
    "plt.title(\"Target Variable Distribution\")"
   ]
  },
  {
   "cell_type": "code",
   "execution_count": 13,
   "id": "3fbab4cf-7d35-4a88-aee7-ce32af318e24",
   "metadata": {},
   "outputs": [
    {
     "data": {
      "text/plain": [
       "<Axes: xlabel='age', ylabel='Count'>"
      ]
     },
     "execution_count": 13,
     "metadata": {},
     "output_type": "execute_result"
    },
    {
     "data": {
      "image/png": "[encoded data removed]",
      "text/plain": [
       "<Figure size 640x480 with 1 Axes>"
      ]
     },
     "metadata": {},
     "output_type": "display_data"
    }
   ],
   "source": [
    "# Age distribution\n",
    "sns.histplot(df['age'], kde=True)"
   ]
  },
  {
   "cell_type": "code",
   "execution_count": 14,
   "id": "d0a014bd-3e02-4daf-bd48-d4112902c288",
   "metadata": {},
   "outputs": [
    {
     "data": {
      "text/html": [
       "<div>\n",
       "<style scoped>\n",
       "    .dataframe tbody tr th:only-of-type {\n",
       "        vertical-align: middle;\n",
       "    }\n",
       "\n",
       "    .dataframe tbody tr th {\n",
       "        vertical-align: top;\n",
       "    }\n",
       "\n",
       "    .dataframe thead th {\n",
       "        text-align: right;\n",
       "    }\n",
       "</style>\n",
       "<table border=\"1\" class=\"dataframe\">\n",
       "  <thead>\n",
       "    <tr style=\"text-align: right;\">\n",
       "      <th></th>\n",
       "      <th>age</th>\n",
       "      <th>gender</th>\n",
       "      <th>impluse</th>\n",
       "      <th>pressurehight</th>\n",
       "      <th>pressurelow</th>\n",
       "      <th>glucose</th>\n",
       "      <th>kcm</th>\n",
       "      <th>troponin</th>\n",
       "      <th>class</th>\n",
       "    </tr>\n",
       "  </thead>\n",
       "  <tbody>\n",
       "    <tr>\n",
       "      <th>age</th>\n",
       "      <td>1.000000</td>\n",
       "      <td>-0.092874</td>\n",
       "      <td>-0.023440</td>\n",
       "      <td>0.017441</td>\n",
       "      <td>0.002614</td>\n",
       "      <td>-0.004193</td>\n",
       "      <td>0.018419</td>\n",
       "      <td>0.088800</td>\n",
       "      <td>0.238097</td>\n",
       "    </tr>\n",
       "    <tr>\n",
       "      <th>gender</th>\n",
       "      <td>-0.092874</td>\n",
       "      <td>1.000000</td>\n",
       "      <td>-0.026781</td>\n",
       "      <td>0.011065</td>\n",
       "      <td>-0.009370</td>\n",
       "      <td>0.006668</td>\n",
       "      <td>0.017527</td>\n",
       "      <td>0.065793</td>\n",
       "      <td>0.094432</td>\n",
       "    </tr>\n",
       "    <tr>\n",
       "      <th>impluse</th>\n",
       "      <td>-0.023440</td>\n",
       "      <td>-0.026781</td>\n",
       "      <td>1.000000</td>\n",
       "      <td>0.010882</td>\n",
       "      <td>0.108353</td>\n",
       "      <td>-0.019584</td>\n",
       "      <td>-0.013001</td>\n",
       "      <td>0.011180</td>\n",
       "      <td>0.006920</td>\n",
       "    </tr>\n",
       "    <tr>\n",
       "      <th>pressurehight</th>\n",
       "      <td>0.017441</td>\n",
       "      <td>0.011065</td>\n",
       "      <td>0.010882</td>\n",
       "      <td>1.000000</td>\n",
       "      <td>0.586166</td>\n",
       "      <td>0.020807</td>\n",
       "      <td>-0.016396</td>\n",
       "      <td>0.043729</td>\n",
       "      <td>-0.020825</td>\n",
       "    </tr>\n",
       "    <tr>\n",
       "      <th>pressurelow</th>\n",
       "      <td>0.002614</td>\n",
       "      <td>-0.009370</td>\n",
       "      <td>0.108353</td>\n",
       "      <td>0.586166</td>\n",
       "      <td>1.000000</td>\n",
       "      <td>-0.025614</td>\n",
       "      <td>-0.023403</td>\n",
       "      <td>0.043360</td>\n",
       "      <td>-0.009659</td>\n",
       "    </tr>\n",
       "    <tr>\n",
       "      <th>glucose</th>\n",
       "      <td>-0.004193</td>\n",
       "      <td>0.006668</td>\n",
       "      <td>-0.019584</td>\n",
       "      <td>0.020807</td>\n",
       "      <td>-0.025614</td>\n",
       "      <td>1.000000</td>\n",
       "      <td>0.045757</td>\n",
       "      <td>0.021069</td>\n",
       "      <td>-0.033059</td>\n",
       "    </tr>\n",
       "    <tr>\n",
       "      <th>kcm</th>\n",
       "      <td>0.018419</td>\n",
       "      <td>0.017527</td>\n",
       "      <td>-0.013001</td>\n",
       "      <td>-0.016396</td>\n",
       "      <td>-0.023403</td>\n",
       "      <td>0.045757</td>\n",
       "      <td>1.000000</td>\n",
       "      <td>-0.016008</td>\n",
       "      <td>0.217720</td>\n",
       "    </tr>\n",
       "    <tr>\n",
       "      <th>troponin</th>\n",
       "      <td>0.088800</td>\n",
       "      <td>0.065793</td>\n",
       "      <td>0.011180</td>\n",
       "      <td>0.043729</td>\n",
       "      <td>0.043360</td>\n",
       "      <td>0.021069</td>\n",
       "      <td>-0.016008</td>\n",
       "      <td>1.000000</td>\n",
       "      <td>0.229376</td>\n",
       "    </tr>\n",
       "    <tr>\n",
       "      <th>class</th>\n",
       "      <td>0.238097</td>\n",
       "      <td>0.094432</td>\n",
       "      <td>0.006920</td>\n",
       "      <td>-0.020825</td>\n",
       "      <td>-0.009659</td>\n",
       "      <td>-0.033059</td>\n",
       "      <td>0.217720</td>\n",
       "      <td>0.229376</td>\n",
       "      <td>1.000000</td>\n",
       "    </tr>\n",
       "  </tbody>\n",
       "</table>\n",
       "</div>"
      ],
      "text/plain": [
       "                    age    gender   impluse  pressurehight  pressurelow  \\\n",
       "age            1.000000 -0.092874 -0.023440       0.017441     0.002614   \n",
       "gender        -0.092874  1.000000 -0.026781       0.011065    -0.009370   \n",
       "impluse       -0.023440 -0.026781  1.000000       0.010882     0.108353   \n",
       "pressurehight  0.017441  0.011065  0.010882       1.000000     0.586166   \n",
       "pressurelow    0.002614 -0.009370  0.108353       0.586166     1.000000   \n",
       "glucose       -0.004193  0.006668 -0.019584       0.020807    -0.025614   \n",
       "kcm            0.018419  0.017527 -0.013001      -0.016396    -0.023403   \n",
       "troponin       0.088800  0.065793  0.011180       0.043729     0.043360   \n",
       "class          0.238097  0.094432  0.006920      -0.020825    -0.009659   \n",
       "\n",
       "                glucose       kcm  troponin     class  \n",
       "age           -0.004193  0.018419  0.088800  0.238097  \n",
       "gender         0.006668  0.017527  0.065793  0.094432  \n",
       "impluse       -0.019584 -0.013001  0.011180  0.006920  \n",
       "pressurehight  0.020807 -0.016396  0.043729 -0.020825  \n",
       "pressurelow   -0.025614 -0.023403  0.043360 -0.009659  \n",
       "glucose        1.000000  0.045757  0.021069 -0.033059  \n",
       "kcm            0.045757  1.000000 -0.016008  0.217720  \n",
       "troponin       0.021069 -0.016008  1.000000  0.229376  \n",
       "class         -0.033059  0.217720  0.229376  1.000000  "
      ]
     },
     "execution_count": 14,
     "metadata": {},
     "output_type": "execute_result"
    }
   ],
   "source": [
    "df.corr(numeric_only=True)"
   ]
  },
  {
   "cell_type": "code",
   "execution_count": 15,
   "id": "dae38540-5d8f-4d3f-a87e-1350444fad3b",
   "metadata": {},
   "outputs": [
    {
     "data": {
      "text/plain": [
       "<Axes: >"
      ]
     },
     "execution_count": 15,
     "metadata": {},
     "output_type": "execute_result"
    },
    {
     "data": {
      "image/png": "[encoded data removed]",
      "text/plain": [
       "<Figure size 1000x600 with 2 Axes>"
      ]
     },
     "metadata": {},
     "output_type": "display_data"
    }
   ],
   "source": [
    "plt.figure(figsize=(10, 6))\n",
    "sns.heatmap(df.corr(numeric_only=True),annot=True)"
   ]
  },
  {
   "cell_type": "code",
   "execution_count": 16,
   "id": "483fc19e-7d24-4866-8133-15e8c1f237f8",
   "metadata": {},
   "outputs": [],
   "source": [
    "# Encode target \n",
    "df['class'] = df['class'].map({'negative': 0, 'positive': 1})"
   ]
  },
  {
   "cell_type": "code",
   "execution_count": 17,
   "id": "95eb4b8d-9ae7-4c89-8ce8-b05f55af232f",
   "metadata": {},
   "outputs": [
    {
     "data": {
      "text/plain": [
       "Series([], Name: count, dtype: int64)"
      ]
     },
     "execution_count": 17,
     "metadata": {},
     "output_type": "execute_result"
    }
   ],
   "source": [
    "df['class'].value_counts()"
   ]
  },
  {
   "cell_type": "code",
   "execution_count": 18,
   "id": "f93bfde8-383f-477e-95c2-00e076b9b741",
   "metadata": {},
   "outputs": [],
   "source": [
    "#Feature Engineering\n",
    "#Create blood pressure difference:\n",
    "df['bp_diff'] = df['pressurehight'] - df['pressurelow']"
   ]
  },
  {
   "cell_type": "code",
   "execution_count": 19,
   "id": "46450a60-a45b-41ac-bae4-633f0a57fdc0",
   "metadata": {},
   "outputs": [
    {
     "data": {
      "text/plain": [
       "0       77\n",
       "1       52\n",
       "2       83\n",
       "3       65\n",
       "4       47\n",
       "        ..\n",
       "1314    55\n",
       "1315    70\n",
       "1316    64\n",
       "1317    49\n",
       "1318    78\n",
       "Name: bp_diff, Length: 1319, dtype: int64"
      ]
     },
     "execution_count": 19,
     "metadata": {},
     "output_type": "execute_result"
    }
   ],
   "source": [
    "df['bp_diff']"
   ]
  },
  {
   "cell_type": "code",
   "execution_count": 20,
   "id": "3795951b-e9a0-4dc1-8d51-399ce68be454",
   "metadata": {},
   "outputs": [],
   "source": [
    "#Prepare Data for ML\n",
    "scaler = StandardScaler()\n",
    "X_train_scaled = scaler.fit_transform(X_train)\n",
    "X_val_scaled = scaler.transform(X_val)\n",
    "X_test_scaled = scaler.transform(X_test)"
   ]
  },
  {
   "cell_type": "markdown",
   "id": "59981e3b-cb6a-4bea-86e0-ed6325ec3ce5",
   "metadata": {},
   "source": [
    "# Train 5 Different ML Models"
   ]
  },
  {
   "cell_type": "code",
   "execution_count": 23,
   "id": "f01da5c8-6b0a-41af-b380-6761a9a24cd6",
   "metadata": {},
   "outputs": [
    {
     "name": "stdout",
     "output_type": "stream",
     "text": [
      "Logistic Regression: F1 Score = 0.7983\n",
      "Decision Tree: F1 Score = 0.9746\n",
      "Random Forest: F1 Score = 0.9702\n",
      "Gradient Boosting: F1 Score = 0.9746\n",
      "SVM: F1 Score = 0.7479\n"
     ]
    }
   ],
   "source": [
    "models = {\n",
    "    \"Logistic Regression\": LogisticRegression(),\n",
    "    \"Decision Tree\": DecisionTreeClassifier(),\n",
    "    \"Random Forest\": RandomForestClassifier(),\n",
    "    \"Gradient Boosting\": GradientBoostingClassifier(),\n",
    "    \"SVM\": SVC()\n",
    "}\n",
    "\n",
    "for name, model in models.items():\n",
    "    model.fit(X_train_scaled, y_train)\n",
    "    preds = model.predict(X_val_scaled)\n",
    "    score = f1_score(y_val, preds,average='binary')\n",
    "    print(f\"{name}: F1 Score = {score:.4f}\")"
   ]
  },
  {
   "cell_type": "code",
   "execution_count": 22,
   "id": "de5e7d37-97e6-4ff0-ace4-82ec8416db0d",
   "metadata": {},
   "outputs": [
    {
     "name": "stdout",
     "output_type": "stream",
     "text": [
      "Tuned Model F1 Score: 0.9744\n"
     ]
    }
   ],
   "source": [
    "#Choose Best Model + Tune It\n",
    "params = {'n_estimators': [50, 100, 200], 'max_depth': [3, 5, 10]}\n",
    "f1 = make_scorer(f1_score, average='binary')\n",
    "\n",
    "grid = GridSearchCV(RandomForestClassifier(), params, cv=3, scoring=f1)\n",
    "grid.fit(X_train_scaled, y_train)\n",
    "\n",
    "best_model = grid.best_estimator_\n",
    "val_preds = best_model.predict(X_val_scaled)\n",
    "\n",
    "score = f1_score(y_val, val_preds, average='binary')\n",
    "print(f\"Tuned Model F1 Score: {score:.4f}\")"
   ]
  },
  {
   "cell_type": "markdown",
   "id": "994deaee-0e8d-41ba-839d-085d361931b2",
   "metadata": {},
   "source": [
    "Final Model Evaluation"
   ]
  },
  {
   "cell_type": "markdown",
   "id": "7319fee2-b97e-4b45-903c-65fee3642ccb",
   "metadata": {},
   "source": [
    "# Final Model Evaluation"
   ]
  },
  {
   "cell_type": "code",
   "execution_count": 24,
   "id": "de84f2ef-35fa-4252-a3b5-16926ae5432e",
   "metadata": {},
   "outputs": [],
   "source": [
    "#Final Model Evaluation"
   ]
  },
  {
   "cell_type": "code",
   "execution_count": 25,
   "id": "02ad9fd6-8b3d-4064-b0a2-9b4f18d2caaf",
   "metadata": {},
   "outputs": [
    {
     "name": "stdout",
     "output_type": "stream",
     "text": [
      "              precision    recall  f1-score   support\n",
      "\n",
      "           0       0.99      0.99      0.99        74\n",
      "           1       0.99      0.99      0.99       124\n",
      "\n",
      "    accuracy                           0.99       198\n",
      "   macro avg       0.99      0.99      0.99       198\n",
      "weighted avg       0.99      0.99      0.99       198\n",
      "\n"
     ]
    }
   ],
   "source": [
    "test_preds = best_model.predict(X_test_scaled)\n",
    "print(classification_report(y_test, test_preds))"
   ]
  },
  {
   "cell_type": "code",
   "execution_count": null,
   "id": "fe2e285c-9f54-4b68-9eac-c1f459d9a758",
   "metadata": {},
   "outputs": [],
   "source": []
  }
 ],
 "metadata": {
  "kernelspec": {
   "display_name": "Python 3 (ipykernel)",
   "language": "python",
   "name": "python3"
  },
  "language_info": {
   "codemirror_mode": {
    "name": "ipython",
    "version": 3
   },
   "file_extension": ".py",
   "mimetype": "text/x-python",
   "name": "python",
   "nbconvert_exporter": "python",
   "pygments_lexer": "ipython3",
   "version": "3.9.6"
  }
 },
 "nbformat": 4,
 "nbformat_minor": 5
}
